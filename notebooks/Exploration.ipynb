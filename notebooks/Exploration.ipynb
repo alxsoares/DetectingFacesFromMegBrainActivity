{
 "metadata": {
  "language": "Julia",
  "name": ""
 },
 "nbformat": 3,
 "nbformat_minor": 0,
 "worksheets": [
  {
   "cells": [
    {
     "cell_type": "code",
     "collapsed": false,
     "input": [
      "using Color\n",
      "using DataFrames\n",
      "using Gadfly\n",
      "using MachineLearning\n",
      "using MAT\n",
      "using PyCall\n",
      "@pyimport mne\n",
      "require(\"C:/Users/ben_000/Code/DetectingFacesFromMegBrainActivity/src/helpers.jl\")"
     ],
     "language": "python",
     "metadata": {},
     "outputs": [],
     "prompt_number": 6
    },
    {
     "cell_type": "code",
     "collapsed": false,
     "input": [
      "cd(joinpath(ENV[\"DataPath\"], \"DetectingFacesFromMegBrainActivity\", \"Working\", \"RawMat\", \"data\"))\n",
      "f = matopen(\"train_subject01.mat\")\n",
      "X = read(f, \"X\")\n",
      "y = read(f, \"y\")\n",
      "sampling_frequency = read(f, \"sfreq\")\n",
      "tmin = read(f, \"tmin\")\n",
      "tmax = read(f, \"tmax\")\n",
      "samples_before = int(-tmin*sampling_frequency)\n",
      "\n",
      "samples_before\n"
     ],
     "language": "python",
     "metadata": {},
     "outputs": [
      {
       "metadata": {},
       "output_type": "pyout",
       "prompt_number": 56,
       "text": [
        "125"
       ]
      }
     ],
     "prompt_number": 56
    },
    {
     "cell_type": "code",
     "collapsed": false,
     "input": [
      "num_channels     = size(X,2)\n",
      "num_time_samples = size(X,3)\n",
      "channels = repmat([1:num_channels], 1, num_time_samples) \n",
      "time     = repmat(transpose([1:num_time_samples]), num_channels, 1)\n",
      "\n",
      "\n",
      "face    = reshape(mean(X[vec(y).==1,:,:], 1), num_channels, num_time_samples)\n",
      "no_face = reshape(mean(X[vec(y).!=1,:,:], 1), num_channels, num_time_samples)\n",
      "\n",
      "df = DataFrame(Time=vec(time), Channel=vec(channels), Value=vec(face-no_face))\n",
      "\n",
      "rainbow = Scale.ContinuousColorScale(Scale.lab_gradient(ColorValue[color(c) for c=[\"#3288bd\",\"#99d594\",\"#e6f598\",\"#fee08b\",\"#fc8d59\",\"#d53e4f\"]]...))\n",
      "\n",
      "# plot(df, x=\"Time\", y=\"Value\", color=\"Channel\", Geom.line)\n",
      "plot(df, x=\"Time\", y=\"Channel\", color=\"Value\", Geom.rectbin, rainbow)"
     ],
     "language": "python",
     "metadata": {},
     "outputs": [],
     "prompt_number": 3
    },
    {
     "cell_type": "code",
     "collapsed": false,
     "input": [
      "num_channels     = size(X,2)\n",
      "num_time_samples = size(X,3)\n",
      "face    = reshape(mean(X[vec(y).==1,:,:], 1), num_channels, num_time_samples)\n",
      "no_face = reshape(mean(X[vec(y).!=1,:,:], 1), num_channels, num_time_samples)\n",
      "\n",
      "layout = mne.layouts[:read_layout](\"Vectorview-all\")\n",
      "evoked = mne.fiff[:Evoked](pyeval(\"None\"))\n",
      "evoked[:data]  = face-no_face\n",
      "evoked[:times] = linspace(tmin, tmax, num_time_samples)\n",
      "evoked[:info]  = {\"ch_names\" => layout[:names], \"chs\" => [{\"kind\"=>1,\"unit\"=>112} for i=1:num_channels], \"nchan\"=>num_channels}\n",
      "#evoked[:info][\"__setitem__\"](\"ch_names\", layout[:names])\n",
      "p = mne.viz[:plot_evoked_topomap](evoked, layout=layout, proj=pyeval(\"False\"), show=pyeval(\"False\"))"
     ],
     "language": "python",
     "metadata": {},
     "outputs": [
      {
       "ename": "LoadError",
       "evalue": "dir not defined\nwhile loading In[69], in expression starting on line 13",
       "output_type": "pyerr",
       "traceback": [
        "dir not defined\nwhile loading In[69], in expression starting on line 13"
       ]
      }
     ],
     "prompt_number": 69
    },
    {
     "cell_type": "code",
     "collapsed": false,
     "input": [
      "p[:savefig]"
     ],
     "language": "python",
     "metadata": {},
     "outputs": [
      {
       "metadata": {},
       "output_type": "pyout",
       "prompt_number": 71,
       "text": [
        "fn (generic function with 1 method)"
       ]
      }
     ],
     "prompt_number": 71
    },
    {
     "cell_type": "code",
     "collapsed": false,
     "input": [
      "@pyimport scipy.cluster.hierarchy as hcluster\n",
      "@pyimport scipy.spatial.distance as dist\n",
      "\n",
      "\n",
      "ave = reshape(mean(X, 1), size(X,2), size(X, 3))\n",
      "res = hcluster.complete(dist.pdist(ave, metric=\"euclidean\"))\n",
      "I   = sortperm(hcluster.fcluster(res, 1.0))\n",
      "# size(X,2)*size(X,3)"
     ],
     "language": "python",
     "metadata": {},
     "outputs": [
      {
       "metadata": {},
       "output_type": "pyout",
       "prompt_number": 29,
       "text": [
        "306-element Array{Int64,1}:\n",
        "  53\n",
        " 112\n",
        " 230\n",
        " 175\n",
        " 184\n",
        " 214\n",
        " 220\n",
        "  16\n",
        "  28\n",
        "  58\n",
        "   4\n",
        "   7\n",
        "  80\n",
        "   \u22ee\n",
        " 155\n",
        "  61\n",
        "  85\n",
        "  26\n",
        "  31\n",
        "  37\n",
        "  46\n",
        "  49\n",
        "  52\n",
        " 187\n",
        " 266\n",
        "  86"
       ]
      }
     ],
     "prompt_number": 29
    },
    {
     "cell_type": "code",
     "collapsed": false,
     "input": [
      "pyeval(\"None\")"
     ],
     "language": "python",
     "metadata": {},
     "outputs": [],
     "prompt_number": 13
    },
    {
     "cell_type": "code",
     "collapsed": false,
     "input": [
      "ave_response = reshape(mean(X,1), (306, 375))\n",
      "channels = repmat([1:size(ave_response, 1)],  1, size(ave_response, 2))\n",
      "time     = repmat([1:size(ave_response, 2)]', size(ave_response, 1), 1)\n",
      "\n",
      "df = DataFrame(Response=vec(ave_response), Channels=vec(channels), Time=vec(time))"
     ],
     "language": "python",
     "metadata": {},
     "outputs": []
    },
    {
     "cell_type": "code",
     "collapsed": false,
     "input": [
      "plot(df, x=\"Time\", y=\"Channels\", color=\"Response\", Geom.rectbin)"
     ],
     "language": "python",
     "metadata": {},
     "outputs": []
    }
   ],
   "metadata": {}
  }
 ]
}