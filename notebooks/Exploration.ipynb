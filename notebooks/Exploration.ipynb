{
 "metadata": {
  "language": "Julia",
  "name": ""
 },
 "nbformat": 3,
 "nbformat_minor": 0,
 "worksheets": [
  {
   "cells": [
    {
     "cell_type": "code",
     "collapsed": false,
     "input": [
      "using MachineLearning\n",
      "using MAT\n",
      "using PyPlot"
     ],
     "language": "python",
     "metadata": {},
     "outputs": [
      {
       "output_type": "stream",
       "stream": "stderr",
       "text": [
        "Warning: ignoring conflicting import of StatsBase.range into DataFrames\n"
       ]
      },
      {
       "output_type": "stream",
       "stream": "stderr",
       "text": [
        "Qt: Untested Windows version 6.2 detected!\r\n",
        "INFO: "
       ]
      },
      {
       "output_type": "stream",
       "stream": "stderr",
       "text": [
        "Loading help data...\n"
       ]
      }
     ],
     "prompt_number": 1
    },
    {
     "cell_type": "code",
     "collapsed": false,
     "input": [
      "cd(joinpath(ENV[\"DataPath\"], \"DetectingFacesFromMegBrainActivity\", \"Working\", \"RawMat\", \"data\"))\n",
      "f = matopen(\"train_subject01.mat\")\n",
      "X = read(f, \"X\")\n",
      "y = read(f, \"y\")\n",
      "sampling_frequency = read(f, \"sfreq\")\n",
      "tmin = read(f, \"tmin\")\n",
      "samples_before = int(-tmin*sampling_frequency)\n",
      "\n",
      "samples_before"
     ],
     "language": "python",
     "metadata": {},
     "outputs": [
      {
       "metadata": {},
       "output_type": "pyout",
       "prompt_number": 2,
       "text": [
        "125"
       ]
      }
     ],
     "prompt_number": 2
    },
    {
     "cell_type": "code",
     "collapsed": false,
     "input": [
      "extract_trial(X, trial_num) = reshape(X[trial_num,:,:], (size(X,2),size(X,3)))\n",
      "\n",
      "trial = extract_trial(X, 1)\n",
      "\n",
      "moving_average(x, n) = filt(ones(n)/n, [1.0], float64(x))\n",
      "\n",
      "function extract_trial_fft_features(trial, n_moving_average)\n",
      "    time_samples = size(trial, 2)\n",
      "    trial_fft = abs(rfft(trial, 2))\n",
      "    downsample = n_moving_average:n_moving_average:size(trial_fft, 2)\n",
      "    res = zeros(size(trial, 1), length(downsample))\n",
      "    for i=1:size(trial, 1)\n",
      "        res[i,:] = moving_average(vec(trial_fft[i,:]), n_moving_average)[downsample]\n",
      "    end\n",
      "    vec(res)\n",
      "end\n",
      "\n",
      "function extract_trial_time_features(trial, n_moving_average)\n",
      "    time_samples = size(trial, 2)\n",
      "    downsample = n_moving_average:n_moving_average:size(trial, 2)\n",
      "    res = zeros(size(trial, 1), length(downsample))\n",
      "    for i=1:size(trial, 1)\n",
      "        res[i,:] = moving_average(vec(abs(trial[i,:])), n_moving_average)[downsample]\n",
      "    end\n",
      "    vec(res)\n",
      "end\n",
      "\n",
      "function extract_features(X)\n",
      "    n_moving_average = 20\n",
      "    num_trials   = size(X, 1)\n",
      "    num_channels = size(X, 2)\n",
      "    fft_features_per_channel  = length(n_moving_average:n_moving_average:floor(size(X,3)/2))\n",
      "    time_features_per_channel = length(n_moving_average:n_moving_average:floor(size(X,3)))\n",
      "    fft_features  = zeros(num_trials, num_channels*fft_features_per_channel)\n",
      "    time_features = zeros(num_trials, num_channels*time_features_per_channel)\n",
      "    for i=1:num_trials\n",
      "        trial = extract_trial(X, i)\n",
      "        fft_features[i, :]  = extract_trial_fft_features(trial, n_moving_average)\n",
      "        time_features[i, :] = extract_trial_time_features(trial, n_moving_average)\n",
      "    end\n",
      "    hcat(fft_features, time_features)\n",
      "end\n",
      "\n",
      "f = extract_features(X)\n",
      "size(f)"
     ],
     "language": "python",
     "metadata": {},
     "outputs": [
      {
       "metadata": {},
       "output_type": "pyout",
       "prompt_number": 15,
       "text": [
        "(594,8262)"
       ]
      }
     ],
     "prompt_number": 15
    },
    {
     "cell_type": "code",
     "collapsed": false,
     "input": [
      "x_train, y_train, x_test, y_test = split_train_test(f, vec(y))\n",
      "forest = fit(x_train, y_train, classification_forest_options(num_trees=100))\n",
      "res    = predict(forest, x_test)\n",
      "accuracy(res, y_test)"
     ],
     "language": "python",
     "metadata": {},
     "outputs": [],
     "prompt_number": "*"
    },
    {
     "cell_type": "code",
     "collapsed": false,
     "input": [
      "println(forest)"
     ],
     "language": "python",
     "metadata": {},
     "outputs": [
      {
       "output_type": "stream",
       "stream": "stdout",
       "text": [
        "Classification Forest\n",
        "    100 Trees\n",
        "    33.720000 Nodes per tree\n",
        "    2 Classes"
       ]
      },
      {
       "output_type": "stream",
       "stream": "stdout",
       "text": [
        "\n"
       ]
      }
     ],
     "prompt_number": 18
    },
    {
     "cell_type": "code",
     "collapsed": false,
     "input": [],
     "language": "python",
     "metadata": {},
     "outputs": [
      {
       "metadata": {},
       "output_type": "pyout",
       "prompt_number": 13,
       "text": [
        "297x2 Array{Float64,2}:\n",
        " 0.4  0.6\n",
        " 0.7  0.3\n",
        " 0.4  0.6\n",
        " 0.5  0.5\n",
        " 0.5  0.5\n",
        " 0.5  0.5\n",
        " 0.6  0.4\n",
        " 0.4  0.6\n",
        " 0.6  0.4\n",
        " 0.8  0.2\n",
        " 0.6  0.4\n",
        " 0.6  0.4\n",
        " 0.5  0.5\n",
        " \u22ee       \n",
        " 0.6  0.4\n",
        " 0.5  0.5\n",
        " 0.6  0.4\n",
        " 0.4  0.6\n",
        " 0.5  0.5\n",
        " 0.4  0.6\n",
        " 0.6  0.4\n",
        " 0.6  0.4\n",
        " 0.3  0.7\n",
        " 0.4  0.6\n",
        " 0.5  0.5\n",
        " 0.4  0.6"
       ]
      }
     ],
     "prompt_number": 13
    }
   ],
   "metadata": {}
  }
 ]
}